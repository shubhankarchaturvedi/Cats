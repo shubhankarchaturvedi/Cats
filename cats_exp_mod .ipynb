{
 "cells": [
  {
   "cell_type": "markdown",
   "metadata": {},
   "source": [
    "## 1. Imports"
   ]
  },
  {
   "cell_type": "code",
   "execution_count": 5,
   "metadata": {},
   "outputs": [],
   "source": [
    "import numpy as np\n",
    "import pandas as pd\n",
    "import matplotlib.pyplot as plt\n",
    "import seaborn as sns\n"
   ]
  },
  {
   "cell_type": "code",
   "execution_count": 6,
   "metadata": {},
   "outputs": [
    {
     "data": {
      "text/html": [
       "<div>\n",
       "<style scoped>\n",
       "    .dataframe tbody tr th:only-of-type {\n",
       "        vertical-align: middle;\n",
       "    }\n",
       "\n",
       "    .dataframe tbody tr th {\n",
       "        vertical-align: top;\n",
       "    }\n",
       "\n",
       "    .dataframe thead th {\n",
       "        text-align: right;\n",
       "    }\n",
       "</style>\n",
       "<table border=\"1\" class=\"dataframe\">\n",
       "  <thead>\n",
       "    <tr style=\"text-align: right;\">\n",
       "      <th></th>\n",
       "      <th>Unnamed: 0</th>\n",
       "      <th>age at death</th>\n",
       "      <th>breed</th>\n",
       "      <th>date of last vet visit</th>\n",
       "      <th>hair length</th>\n",
       "      <th>height</th>\n",
       "      <th>number of vet visits</th>\n",
       "      <th>weight</th>\n",
       "    </tr>\n",
       "  </thead>\n",
       "  <tbody>\n",
       "    <tr>\n",
       "      <th>0</th>\n",
       "      <td>0</td>\n",
       "      <td>7.0</td>\n",
       "      <td>Siamese</td>\n",
       "      <td>2009-08-02 14:02:18</td>\n",
       "      <td>0.883886</td>\n",
       "      <td>21.611951</td>\n",
       "      <td>5</td>\n",
       "      <td>4.0</td>\n",
       "    </tr>\n",
       "    <tr>\n",
       "      <th>1</th>\n",
       "      <td>1</td>\n",
       "      <td>9.0</td>\n",
       "      <td>Siamese</td>\n",
       "      <td>2013-11-27 19:08:52</td>\n",
       "      <td>1.221535</td>\n",
       "      <td>26.451956</td>\n",
       "      <td>10</td>\n",
       "      <td>4.0</td>\n",
       "    </tr>\n",
       "    <tr>\n",
       "      <th>2</th>\n",
       "      <td>2</td>\n",
       "      <td>8.0</td>\n",
       "      <td>Manx</td>\n",
       "      <td>2016-01-12 04:39:24</td>\n",
       "      <td>0.967718</td>\n",
       "      <td>18.540191</td>\n",
       "      <td>10</td>\n",
       "      <td>5.0</td>\n",
       "    </tr>\n",
       "    <tr>\n",
       "      <th>3</th>\n",
       "      <td>3</td>\n",
       "      <td>8.0</td>\n",
       "      <td>Maine Coon</td>\n",
       "      <td>2000-11-24 18:51:18</td>\n",
       "      <td>1.090641</td>\n",
       "      <td>16.564362</td>\n",
       "      <td>12</td>\n",
       "      <td>7.0</td>\n",
       "    </tr>\n",
       "    <tr>\n",
       "      <th>4</th>\n",
       "      <td>4</td>\n",
       "      <td>8.0</td>\n",
       "      <td>Maine Coon</td>\n",
       "      <td>2014-07-03 22:17:26</td>\n",
       "      <td>1.004712</td>\n",
       "      <td>22.535495</td>\n",
       "      <td>7</td>\n",
       "      <td>7.0</td>\n",
       "    </tr>\n",
       "  </tbody>\n",
       "</table>\n",
       "</div>"
      ],
      "text/plain": [
       "   Unnamed: 0  age at death       breed date of last vet visit  hair length  \\\n",
       "0           0           7.0     Siamese    2009-08-02 14:02:18     0.883886   \n",
       "1           1           9.0     Siamese    2013-11-27 19:08:52     1.221535   \n",
       "2           2           8.0        Manx    2016-01-12 04:39:24     0.967718   \n",
       "3           3           8.0  Maine Coon    2000-11-24 18:51:18     1.090641   \n",
       "4           4           8.0  Maine Coon    2014-07-03 22:17:26     1.004712   \n",
       "\n",
       "      height  number of vet visits  weight  \n",
       "0  21.611951                     5     4.0  \n",
       "1  26.451956                    10     4.0  \n",
       "2  18.540191                    10     5.0  \n",
       "3  16.564362                    12     7.0  \n",
       "4  22.535495                     7     7.0  "
      ]
     },
     "execution_count": 6,
     "metadata": {},
     "output_type": "execute_result"
    }
   ],
   "source": [
    "# read csv\n",
    "cats_df = pd.read_csv('./cats.csv')\n",
    "cats_df.head()"
   ]
  },
  {
   "cell_type": "code",
   "execution_count": 7,
   "metadata": {},
   "outputs": [],
   "source": [
    "# drop irrelevant columns\n",
    "cats_df.drop('Unnamed: 0', axis=1, inplace=True)"
   ]
  },
  {
   "cell_type": "code",
   "execution_count": 8,
   "metadata": {},
   "outputs": [
    {
     "name": "stdout",
     "output_type": "stream",
     "text": [
      "<class 'pandas.core.frame.DataFrame'>\n",
      "RangeIndex: 300 entries, 0 to 299\n",
      "Data columns (total 7 columns):\n",
      " #   Column                  Non-Null Count  Dtype  \n",
      "---  ------                  --------------  -----  \n",
      " 0   age at death            299 non-null    float64\n",
      " 1   breed                   300 non-null    object \n",
      " 2   date of last vet visit  300 non-null    object \n",
      " 3   hair length             299 non-null    float64\n",
      " 4   height                  300 non-null    float64\n",
      " 5   number of vet visits    300 non-null    int64  \n",
      " 6   weight                  300 non-null    float64\n",
      "dtypes: float64(4), int64(1), object(2)\n",
      "memory usage: 16.5+ KB\n"
     ]
    }
   ],
   "source": [
    "# basic overview\n",
    "# to check correct datatype\n",
    "cats_df.info()"
   ]
  },
  {
   "cell_type": "markdown",
   "metadata": {},
   "source": [
    "#### Check nan values"
   ]
  },
  {
   "cell_type": "code",
   "execution_count": 9,
   "metadata": {},
   "outputs": [
    {
     "data": {
      "text/plain": [
       "age at death              1\n",
       "breed                     0\n",
       "date of last vet visit    0\n",
       "hair length               1\n",
       "height                    0\n",
       "number of vet visits      0\n",
       "weight                    0\n",
       "dtype: int64"
      ]
     },
     "execution_count": 9,
     "metadata": {},
     "output_type": "execute_result"
    }
   ],
   "source": [
    "# check nan\n",
    "cats_df.isna().sum()"
   ]
  },
  {
   "cell_type": "code",
   "execution_count": 10,
   "metadata": {},
   "outputs": [
    {
     "name": "stdout",
     "output_type": "stream",
     "text": [
      "     age at death       breed date of last vet visit  hair length     height  \\\n",
      "258           NaN  Maine Coon    2010-09-16 08:07:38     0.979556  26.055971   \n",
      "\n",
      "     number of vet visits  weight  \n",
      "258                     1     8.0  \n",
      "\n",
      "     age at death breed date of last vet visit  hair length     height  \\\n",
      "271           6.0  Manx    2001-02-13 02:04:31          NaN  21.520845   \n",
      "\n",
      "     number of vet visits  weight  \n",
      "271                     7     7.0  \n"
     ]
    }
   ],
   "source": [
    "# target nan value needs to be dropped\n",
    "print(cats_df[cats_df['age at death'].isna()], end='\\n\\n')\n",
    "cats_df.drop(258, inplace=True)\n",
    "# \n",
    "print(cats_df[cats_df['hair length'].isna()])"
   ]
  },
  {
   "cell_type": "code",
   "execution_count": 11,
   "metadata": {},
   "outputs": [],
   "source": [
    "cats_df.loc[271,'hair length'] = \\\n",
    "cats_df[cats_df['breed'] == 'Manx']['hair length'].mean()"
   ]
  },
  {
   "cell_type": "code",
   "execution_count": 12,
   "metadata": {},
   "outputs": [
    {
     "data": {
      "text/plain": [
       "age at death              0\n",
       "breed                     0\n",
       "date of last vet visit    0\n",
       "hair length               0\n",
       "height                    0\n",
       "number of vet visits      0\n",
       "weight                    0\n",
       "dtype: int64"
      ]
     },
     "execution_count": 12,
     "metadata": {},
     "output_type": "execute_result"
    }
   ],
   "source": [
    "cats_df.isna().sum()"
   ]
  },
  {
   "cell_type": "markdown",
   "metadata": {},
   "source": [
    "## 2. Wrangling"
   ]
  },
  {
   "cell_type": "markdown",
   "metadata": {},
   "source": [
    "### I. Date time check"
   ]
  },
  {
   "cell_type": "code",
   "execution_count": 13,
   "metadata": {},
   "outputs": [
    {
     "name": "stdout",
     "output_type": "stream",
     "text": [
      "    age at death breed date of last vet visit  hair length     height  \\\n",
      "47           8.0   Rex    2009-22-12 02:43:43     1.037497  27.393672   \n",
      "\n",
      "    number of vet visits  weight  \n",
      "47                     6     6.0  \n"
     ]
    }
   ],
   "source": [
    "# date to pandas date time conversion\n",
    "\n",
    "# pd.to_datetime(cats_df['date of last vet visit'])\n",
    "\n",
    "# To Fix\n",
    "# ParserError: month must be in 1..12: 2009-22-12 02:43:43\n",
    "# some data point has inconsistency in date format, In months to be exact\n",
    "# date format is YYYY-MM-DD\n",
    "\n",
    "# faulty data point\n",
    "print(cats_df[cats_df['date of last vet visit'].apply(lambda x: int(x.split()[0].split('-')[1]) > 12)])\n",
    "\n",
    "# fix no 47\n",
    "# create copy\n",
    "to_fix_temp = cats_df.iloc[47].copy()\n",
    "to_fix_temp['date of last vet visit'] = '2009-12-22 02:43:43'\n",
    "cats_df.iloc[47] = to_fix_temp\n",
    "del(to_fix_temp)"
   ]
  },
  {
   "cell_type": "code",
   "execution_count": 14,
   "metadata": {},
   "outputs": [],
   "source": [
    "# to date time\n",
    "cats_df['date of last vet visit'] = pd.to_datetime(cats_df['date of last vet visit'])"
   ]
  },
  {
   "cell_type": "code",
   "execution_count": 15,
   "metadata": {},
   "outputs": [
    {
     "name": "stderr",
     "output_type": "stream",
     "text": [
      "<ipython-input-15-db5fd8910d1a>:2: FutureWarning: Treating datetime data as categorical rather than numeric in `.describe` is deprecated and will be removed in a future version of pandas. Specify `datetime_is_numeric=True` to silence this warning and adopt the future behavior now.\n",
      "  cats_df['date of last vet visit'].describe()\n"
     ]
    },
    {
     "data": {
      "text/plain": [
       "count                     299\n",
       "unique                    299\n",
       "top       2007-08-02 16:59:33\n",
       "freq                        1\n",
       "first     1997-01-25 05:17:01\n",
       "last      2107-07-20 00:54:19\n",
       "Name: date of last vet visit, dtype: object"
      ]
     },
     "execution_count": 15,
     "metadata": {},
     "output_type": "execute_result"
    }
   ],
   "source": [
    "# descriptive stats for date check\n",
    "cats_df['date of last vet visit'].describe()"
   ]
  },
  {
   "cell_type": "code",
   "execution_count": 16,
   "metadata": {},
   "outputs": [
    {
     "name": "stdout",
     "output_type": "stream",
     "text": [
      "     age at death breed date of last vet visit  hair length    height  \\\n",
      "238          12.0   Rex    2107-07-20 00:54:19     0.913241  8.797789   \n",
      "\n",
      "     number of vet visits  weight  \n",
      "238                     4     4.0  \n"
     ]
    }
   ],
   "source": [
    "# date range exceeds the current year\n",
    "print(cats_df[cats_df['date of last vet visit'].dt.year > 2017])\n",
    "\n",
    "# faulty year\n",
    "# further eda required to determine if this datapoint belongs to year 2007 or 2017\n",
    "# for now we drop it\n",
    "cats_df.drop(238, inplace=True)"
   ]
  },
  {
   "cell_type": "markdown",
   "metadata": {},
   "source": [
    "### II. Category check"
   ]
  },
  {
   "cell_type": "code",
   "execution_count": 17,
   "metadata": {},
   "outputs": [
    {
     "data": {
      "image/png": "[encoded data removed]",
      "text/plain": [
       "<Figure size 432x288 with 1 Axes>"
      ]
     },
     "metadata": {},
     "output_type": "display_data"
    }
   ],
   "source": [
    "#calculate the percentage of each breed category.\n",
    "cats_df.breed.value_counts(normalize=True)\n",
    "\n",
    "#plot the pie chart of breed categories\n",
    "cats_df.breed.value_counts(normalize=True).plot.pie()\n",
    "plt.show()"
   ]
  },
  {
   "cell_type": "code",
   "execution_count": 18,
   "metadata": {},
   "outputs": [
    {
     "data": {
      "text/plain": [
       "Maine Coon    67\n",
       "Rex           63\n",
       "Manx          59\n",
       "Javanese      58\n",
       "Siamese       50\n",
       "Donald         1\n",
       "Name: breed, dtype: int64"
      ]
     },
     "execution_count": 18,
     "metadata": {},
     "output_type": "execute_result"
    }
   ],
   "source": [
    "# category overview\n",
    "cats_df['breed'].value_counts()"
   ]
  },
  {
   "cell_type": "markdown",
   "metadata": {},
   "source": [
    "Donald breed has only 1 datapoint."
   ]
  },
  {
   "cell_type": "markdown",
   "metadata": {},
   "source": [
    "### III. Numerical check"
   ]
  },
  {
   "cell_type": "code",
   "execution_count": 19,
   "metadata": {},
   "outputs": [
    {
     "data": {
      "text/html": [
       "<div>\n",
       "<style scoped>\n",
       "    .dataframe tbody tr th:only-of-type {\n",
       "        vertical-align: middle;\n",
       "    }\n",
       "\n",
       "    .dataframe tbody tr th {\n",
       "        vertical-align: top;\n",
       "    }\n",
       "\n",
       "    .dataframe thead th {\n",
       "        text-align: right;\n",
       "    }\n",
       "</style>\n",
       "<table border=\"1\" class=\"dataframe\">\n",
       "  <thead>\n",
       "    <tr style=\"text-align: right;\">\n",
       "      <th></th>\n",
       "      <th>count</th>\n",
       "      <th>mean</th>\n",
       "      <th>std</th>\n",
       "      <th>min</th>\n",
       "      <th>25%</th>\n",
       "      <th>50%</th>\n",
       "      <th>75%</th>\n",
       "      <th>max</th>\n",
       "    </tr>\n",
       "  </thead>\n",
       "  <tbody>\n",
       "    <tr>\n",
       "      <th>age at death</th>\n",
       "      <td>298.0</td>\n",
       "      <td>8.996644e+00</td>\n",
       "      <td>2.892575e+00</td>\n",
       "      <td>0.000000</td>\n",
       "      <td>7.000000</td>\n",
       "      <td>9.000000</td>\n",
       "      <td>11.000000</td>\n",
       "      <td>1.800000e+01</td>\n",
       "    </tr>\n",
       "    <tr>\n",
       "      <th>hair length</th>\n",
       "      <td>298.0</td>\n",
       "      <td>3.037866e+09</td>\n",
       "      <td>5.244169e+10</td>\n",
       "      <td>0.690454</td>\n",
       "      <td>0.938083</td>\n",
       "      <td>1.004265</td>\n",
       "      <td>1.067898</td>\n",
       "      <td>9.052840e+11</td>\n",
       "    </tr>\n",
       "    <tr>\n",
       "      <th>height</th>\n",
       "      <td>298.0</td>\n",
       "      <td>2.051906e+01</td>\n",
       "      <td>5.069090e+00</td>\n",
       "      <td>5.077179</td>\n",
       "      <td>16.978839</td>\n",
       "      <td>20.825805</td>\n",
       "      <td>23.973393</td>\n",
       "      <td>3.304301e+01</td>\n",
       "    </tr>\n",
       "    <tr>\n",
       "      <th>number of vet visits</th>\n",
       "      <td>298.0</td>\n",
       "      <td>8.335570e+00</td>\n",
       "      <td>3.801667e+00</td>\n",
       "      <td>-1.000000</td>\n",
       "      <td>6.000000</td>\n",
       "      <td>8.000000</td>\n",
       "      <td>11.000000</td>\n",
       "      <td>1.900000e+01</td>\n",
       "    </tr>\n",
       "    <tr>\n",
       "      <th>weight</th>\n",
       "      <td>298.0</td>\n",
       "      <td>3.943960e+00</td>\n",
       "      <td>2.026885e+00</td>\n",
       "      <td>0.000000</td>\n",
       "      <td>2.000000</td>\n",
       "      <td>4.000000</td>\n",
       "      <td>5.000000</td>\n",
       "      <td>1.000000e+01</td>\n",
       "    </tr>\n",
       "  </tbody>\n",
       "</table>\n",
       "</div>"
      ],
      "text/plain": [
       "                      count          mean           std       min        25%  \\\n",
       "age at death          298.0  8.996644e+00  2.892575e+00  0.000000   7.000000   \n",
       "hair length           298.0  3.037866e+09  5.244169e+10  0.690454   0.938083   \n",
       "height                298.0  2.051906e+01  5.069090e+00  5.077179  16.978839   \n",
       "number of vet visits  298.0  8.335570e+00  3.801667e+00 -1.000000   6.000000   \n",
       "weight                298.0  3.943960e+00  2.026885e+00  0.000000   2.000000   \n",
       "\n",
       "                            50%        75%           max  \n",
       "age at death           9.000000  11.000000  1.800000e+01  \n",
       "hair length            1.004265   1.067898  9.052840e+11  \n",
       "height                20.825805  23.973393  3.304301e+01  \n",
       "number of vet visits   8.000000  11.000000  1.900000e+01  \n",
       "weight                 4.000000   5.000000  1.000000e+01  "
      ]
     },
     "execution_count": 19,
     "metadata": {},
     "output_type": "execute_result"
    }
   ],
   "source": [
    "# descriptive stats\n",
    "cats_df.describe().T"
   ]
  },
  {
   "cell_type": "markdown",
   "metadata": {},
   "source": [
    "#### Findings:\n",
    "1. Age at death:\n",
    "- 0 age at death might be faulty\n",
    "2. hair length:\n",
    "- Mean is higher than median indicating presence of outlier\n",
    "3. number of vet visits:\n",
    "- -1 visits at vet\n",
    "4. weight:\n",
    "- 0 weight datapoint needs to be explored"
   ]
  },
  {
   "cell_type": "markdown",
   "metadata": {},
   "source": [
    "hair length feature has extremities"
   ]
  },
  {
   "cell_type": "markdown",
   "metadata": {},
   "source": [
    "#### a. hair length"
   ]
  },
  {
   "cell_type": "code",
   "execution_count": 20,
   "metadata": {},
   "outputs": [
    {
     "name": "stdout",
     "output_type": "stream",
     "text": [
      "     age at death breed date of last vet visit   hair length     height  \\\n",
      "108          10.0   Rex    2012-12-10 03:48:52  9.052840e+11  18.661543   \n",
      "\n",
      "     number of vet visits  weight  \n",
      "108                     9     2.0  \n"
     ]
    }
   ],
   "source": [
    "print(cats_df[cats_df['hair length'] > 8])"
   ]
  },
  {
   "cell_type": "code",
   "execution_count": 21,
   "metadata": {},
   "outputs": [
    {
     "data": {
      "text/plain": [
       "<AxesSubplot:>"
      ]
     },
     "execution_count": 21,
     "metadata": {},
     "output_type": "execute_result"
    },
    {
     "data": {
      "image/png": "[encoded data removed]",
      "text/plain": [
       "<Figure size 432x288 with 1 Axes>"
      ]
     },
     "metadata": {
      "needs_background": "light"
     },
     "output_type": "display_data"
    }
   ],
   "source": [
    "# dropping outlier\n",
    "cats_df.drop(108, inplace=True)\n",
    "cats_df.boxplot()"
   ]
  },
  {
   "cell_type": "markdown",
   "metadata": {},
   "source": [
    "#### b. Age of death"
   ]
  },
  {
   "cell_type": "code",
   "execution_count": 22,
   "metadata": {},
   "outputs": [
    {
     "name": "stdout",
     "output_type": "stream",
     "text": [
      "     age at death     breed date of last vet visit  hair length     height  \\\n",
      "164           0.0       Rex    2007-07-20 22:28:24     0.936867  14.317804   \n",
      "288           0.0  Javanese    2003-04-07 10:02:49     0.950070  24.419723   \n",
      "\n",
      "     number of vet visits  weight  \n",
      "164                     9     1.0  \n",
      "288                    10     3.0  \n"
     ]
    }
   ],
   "source": [
    "# Age 0 at death\n",
    "print(cats_df[cats_df['age at death'] < 1])\n",
    "\n",
    "# age at 0 could be a misentry\n",
    "cats_df.drop([164, 288], inplace=True)"
   ]
  },
  {
   "cell_type": "markdown",
   "metadata": {},
   "source": [
    "#### c. number of vet visits"
   ]
  },
  {
   "cell_type": "code",
   "execution_count": 23,
   "metadata": {},
   "outputs": [
    {
     "data": {
      "text/html": [
       "<div>\n",
       "<style scoped>\n",
       "    .dataframe tbody tr th:only-of-type {\n",
       "        vertical-align: middle;\n",
       "    }\n",
       "\n",
       "    .dataframe tbody tr th {\n",
       "        vertical-align: top;\n",
       "    }\n",
       "\n",
       "    .dataframe thead th {\n",
       "        text-align: right;\n",
       "    }\n",
       "</style>\n",
       "<table border=\"1\" class=\"dataframe\">\n",
       "  <thead>\n",
       "    <tr style=\"text-align: right;\">\n",
       "      <th></th>\n",
       "      <th>age at death</th>\n",
       "      <th>breed</th>\n",
       "      <th>date of last vet visit</th>\n",
       "      <th>hair length</th>\n",
       "      <th>height</th>\n",
       "      <th>number of vet visits</th>\n",
       "      <th>weight</th>\n",
       "    </tr>\n",
       "  </thead>\n",
       "  <tbody>\n",
       "    <tr>\n",
       "      <th>57</th>\n",
       "      <td>11.0</td>\n",
       "      <td>Manx</td>\n",
       "      <td>2011-11-12 23:23:01</td>\n",
       "      <td>0.868451</td>\n",
       "      <td>21.647929</td>\n",
       "      <td>-1</td>\n",
       "      <td>2.0</td>\n",
       "    </tr>\n",
       "    <tr>\n",
       "      <th>92</th>\n",
       "      <td>7.0</td>\n",
       "      <td>Maine Coon</td>\n",
       "      <td>2007-08-02 16:59:33</td>\n",
       "      <td>0.967941</td>\n",
       "      <td>8.624444</td>\n",
       "      <td>-1</td>\n",
       "      <td>3.0</td>\n",
       "    </tr>\n",
       "    <tr>\n",
       "      <th>294</th>\n",
       "      <td>13.0</td>\n",
       "      <td>Javanese</td>\n",
       "      <td>2015-01-27 23:23:42</td>\n",
       "      <td>1.085022</td>\n",
       "      <td>24.610927</td>\n",
       "      <td>-1</td>\n",
       "      <td>4.0</td>\n",
       "    </tr>\n",
       "  </tbody>\n",
       "</table>\n",
       "</div>"
      ],
      "text/plain": [
       "     age at death       breed date of last vet visit  hair length     height  \\\n",
       "57           11.0        Manx    2011-11-12 23:23:01     0.868451  21.647929   \n",
       "92            7.0  Maine Coon    2007-08-02 16:59:33     0.967941   8.624444   \n",
       "294          13.0    Javanese    2015-01-27 23:23:42     1.085022  24.610927   \n",
       "\n",
       "     number of vet visits  weight  \n",
       "57                     -1     2.0  \n",
       "92                     -1     3.0  \n",
       "294                    -1     4.0  "
      ]
     },
     "execution_count": 23,
     "metadata": {},
     "output_type": "execute_result"
    }
   ],
   "source": [
    "# faulty rows for number of vet visits\n",
    "cats_df[cats_df['number of vet visits'] < 0]"
   ]
  },
  {
   "cell_type": "code",
   "execution_count": 24,
   "metadata": {},
   "outputs": [],
   "source": [
    "# fixing -1 by changing it to 0\n",
    "\n",
    "cats_df['number of vet visits'] = \\\n",
    "cats_df['number of vet visits'].apply(lambda x: 0 if x == -1 else x)"
   ]
  },
  {
   "cell_type": "markdown",
   "metadata": {},
   "source": [
    "#### d. weight"
   ]
  },
  {
   "cell_type": "code",
   "execution_count": 25,
   "metadata": {},
   "outputs": [],
   "source": [
    "from sklearn.preprocessing import StandardScaler\n",
    "from sklearn.linear_model import LinearRegression"
   ]
  },
  {
   "cell_type": "code",
   "execution_count": 26,
   "metadata": {},
   "outputs": [
    {
     "data": {
      "text/html": [
       "<div>\n",
       "<style scoped>\n",
       "    .dataframe tbody tr th:only-of-type {\n",
       "        vertical-align: middle;\n",
       "    }\n",
       "\n",
       "    .dataframe tbody tr th {\n",
       "        vertical-align: top;\n",
       "    }\n",
       "\n",
       "    .dataframe thead th {\n",
       "        text-align: right;\n",
       "    }\n",
       "</style>\n",
       "<table border=\"1\" class=\"dataframe\">\n",
       "  <thead>\n",
       "    <tr style=\"text-align: right;\">\n",
       "      <th></th>\n",
       "      <th>age at death</th>\n",
       "      <th>breed</th>\n",
       "      <th>date of last vet visit</th>\n",
       "      <th>hair length</th>\n",
       "      <th>height</th>\n",
       "      <th>number of vet visits</th>\n",
       "      <th>weight</th>\n",
       "    </tr>\n",
       "  </thead>\n",
       "  <tbody>\n",
       "    <tr>\n",
       "      <th>33</th>\n",
       "      <td>6.0</td>\n",
       "      <td>Maine Coon</td>\n",
       "      <td>2007-07-04 02:53:25</td>\n",
       "      <td>0.835610</td>\n",
       "      <td>16.848307</td>\n",
       "      <td>5</td>\n",
       "      <td>0.0</td>\n",
       "    </tr>\n",
       "    <tr>\n",
       "      <th>61</th>\n",
       "      <td>6.0</td>\n",
       "      <td>Maine Coon</td>\n",
       "      <td>2002-02-06 06:49:07</td>\n",
       "      <td>0.942037</td>\n",
       "      <td>23.571271</td>\n",
       "      <td>16</td>\n",
       "      <td>0.0</td>\n",
       "    </tr>\n",
       "    <tr>\n",
       "      <th>102</th>\n",
       "      <td>17.0</td>\n",
       "      <td>Rex</td>\n",
       "      <td>2007-11-27 07:35:08</td>\n",
       "      <td>1.086447</td>\n",
       "      <td>19.750088</td>\n",
       "      <td>9</td>\n",
       "      <td>0.0</td>\n",
       "    </tr>\n",
       "    <tr>\n",
       "      <th>114</th>\n",
       "      <td>11.0</td>\n",
       "      <td>Siamese</td>\n",
       "      <td>2014-08-14 22:01:44</td>\n",
       "      <td>1.190255</td>\n",
       "      <td>17.747619</td>\n",
       "      <td>6</td>\n",
       "      <td>0.0</td>\n",
       "    </tr>\n",
       "    <tr>\n",
       "      <th>131</th>\n",
       "      <td>6.0</td>\n",
       "      <td>Rex</td>\n",
       "      <td>2009-07-08 08:12:26</td>\n",
       "      <td>0.933132</td>\n",
       "      <td>20.619181</td>\n",
       "      <td>8</td>\n",
       "      <td>0.0</td>\n",
       "    </tr>\n",
       "    <tr>\n",
       "      <th>163</th>\n",
       "      <td>14.0</td>\n",
       "      <td>Maine Coon</td>\n",
       "      <td>2000-04-28 10:14:54</td>\n",
       "      <td>1.096407</td>\n",
       "      <td>22.907829</td>\n",
       "      <td>7</td>\n",
       "      <td>0.0</td>\n",
       "    </tr>\n",
       "    <tr>\n",
       "      <th>174</th>\n",
       "      <td>11.0</td>\n",
       "      <td>Maine Coon</td>\n",
       "      <td>2016-08-24 01:54:56</td>\n",
       "      <td>0.842447</td>\n",
       "      <td>15.286063</td>\n",
       "      <td>14</td>\n",
       "      <td>0.0</td>\n",
       "    </tr>\n",
       "    <tr>\n",
       "      <th>179</th>\n",
       "      <td>10.0</td>\n",
       "      <td>Manx</td>\n",
       "      <td>2005-08-20 12:28:46</td>\n",
       "      <td>0.909811</td>\n",
       "      <td>24.554019</td>\n",
       "      <td>5</td>\n",
       "      <td>0.0</td>\n",
       "    </tr>\n",
       "    <tr>\n",
       "      <th>214</th>\n",
       "      <td>6.0</td>\n",
       "      <td>Manx</td>\n",
       "      <td>2010-08-08 21:45:37</td>\n",
       "      <td>0.937148</td>\n",
       "      <td>12.019150</td>\n",
       "      <td>9</td>\n",
       "      <td>0.0</td>\n",
       "    </tr>\n",
       "    <tr>\n",
       "      <th>290</th>\n",
       "      <td>8.0</td>\n",
       "      <td>Javanese</td>\n",
       "      <td>2005-05-16 16:33:16</td>\n",
       "      <td>1.019894</td>\n",
       "      <td>17.027594</td>\n",
       "      <td>0</td>\n",
       "      <td>0.0</td>\n",
       "    </tr>\n",
       "  </tbody>\n",
       "</table>\n",
       "</div>"
      ],
      "text/plain": [
       "     age at death       breed date of last vet visit  hair length     height  \\\n",
       "33            6.0  Maine Coon    2007-07-04 02:53:25     0.835610  16.848307   \n",
       "61            6.0  Maine Coon    2002-02-06 06:49:07     0.942037  23.571271   \n",
       "102          17.0         Rex    2007-11-27 07:35:08     1.086447  19.750088   \n",
       "114          11.0     Siamese    2014-08-14 22:01:44     1.190255  17.747619   \n",
       "131           6.0         Rex    2009-07-08 08:12:26     0.933132  20.619181   \n",
       "163          14.0  Maine Coon    2000-04-28 10:14:54     1.096407  22.907829   \n",
       "174          11.0  Maine Coon    2016-08-24 01:54:56     0.842447  15.286063   \n",
       "179          10.0        Manx    2005-08-20 12:28:46     0.909811  24.554019   \n",
       "214           6.0        Manx    2010-08-08 21:45:37     0.937148  12.019150   \n",
       "290           8.0    Javanese    2005-05-16 16:33:16     1.019894  17.027594   \n",
       "\n",
       "     number of vet visits  weight  \n",
       "33                      5     0.0  \n",
       "61                     16     0.0  \n",
       "102                     9     0.0  \n",
       "114                     6     0.0  \n",
       "131                     8     0.0  \n",
       "163                     7     0.0  \n",
       "174                    14     0.0  \n",
       "179                     5     0.0  \n",
       "214                     9     0.0  \n",
       "290                     0     0.0  "
      ]
     },
     "execution_count": 26,
     "metadata": {},
     "output_type": "execute_result"
    }
   ],
   "source": [
    "# faulty rows for weight of cats \n",
    "cats_df[cats_df['weight'] < 1]"
   ]
  },
  {
   "cell_type": "markdown",
   "metadata": {},
   "source": [
    "We will build a linear model for predicting weight. The features which will be used for modelling will be 'breed', 'height' and 'number of vet visits'"
   ]
  },
  {
   "cell_type": "code",
   "execution_count": 27,
   "metadata": {},
   "outputs": [],
   "source": [
    "train = cats_df[~(cats_df['weight'] < 1)].copy()\n",
    "train = train[['breed', 'height', 'number of vet visits', 'weight', 'age at death']]"
   ]
  },
  {
   "cell_type": "code",
   "execution_count": 28,
   "metadata": {},
   "outputs": [
    {
     "data": {
      "text/plain": [
       "0.01909185900110688"
      ]
     },
     "execution_count": 28,
     "metadata": {},
     "output_type": "execute_result"
    }
   ],
   "source": [
    "ss = StandardScaler()\n",
    "lr = LinearRegression()\n",
    "\n",
    "train = pd.get_dummies(train, 'breed')\n",
    "\n",
    "X = train.drop('weight', axis=1)\n",
    "y = train['weight']\n",
    "\n",
    "X = ss.fit_transform(X)\n",
    "\n",
    "lr.fit(X, y)\n",
    "lr.score(X, y)"
   ]
  },
  {
   "cell_type": "code",
   "execution_count": 29,
   "metadata": {},
   "outputs": [],
   "source": [
    "test = cats_df[cats_df['weight'] < 1][['breed', 'height', 'number of vet visits', 'weight', 'age at death']]\n",
    "test = pd.get_dummies(test, 'breed')\n",
    "test['breed_Donald'] = 0\n",
    "\n",
    "X_ = test.drop('weight', axis=1)\n",
    "\n",
    "X_ = ss.transform(X_)"
   ]
  },
  {
   "cell_type": "code",
   "execution_count": 30,
   "metadata": {},
   "outputs": [],
   "source": [
    "cats_df.loc[cats_df['weight'] < 1, 'weight'] = lr.predict(X_)"
   ]
  },
  {
   "cell_type": "code",
   "execution_count": 31,
   "metadata": {},
   "outputs": [
    {
     "data": {
      "text/plain": [
       "<AxesSubplot:>"
      ]
     },
     "execution_count": 31,
     "metadata": {},
     "output_type": "execute_result"
    },
    {
     "data": {
      "image/png": "[encoded data removed]",
      "text/plain": [
       "<Figure size 432x288 with 1 Axes>"
      ]
     },
     "metadata": {
      "needs_background": "light"
     },
     "output_type": "display_data"
    }
   ],
   "source": [
    "cats_df.boxplot()"
   ]
  },
  {
   "cell_type": "markdown",
   "metadata": {},
   "source": [
    "## 3. Exploration"
   ]
  },
  {
   "cell_type": "code",
   "execution_count": 32,
   "metadata": {},
   "outputs": [
    {
     "data": {
      "text/plain": [
       "<AxesSubplot:>"
      ]
     },
     "execution_count": 32,
     "metadata": {},
     "output_type": "execute_result"
    },
    {
     "data": {
      "image/png": "[encoded data removed]",
      "text/plain": [
       "<Figure size 864x720 with 2 Axes>"
      ]
     },
     "metadata": {
      "needs_background": "light"
     },
     "output_type": "display_data"
    }
   ],
   "source": [
    "plt.figure(figsize=(12,10))\n",
    "sns.heatmap(cats_df.corr(), cmap='YlGnBu', annot=True)"
   ]
  },
  {
   "cell_type": "markdown",
   "metadata": {},
   "source": [
    "#### Findings:\n",
    "- Weak correlation between features\n",
    "- Weak linear relationship between features"
   ]
  },
  {
   "cell_type": "markdown",
   "metadata": {},
   "source": [
    "## I. Bivariate Analysis"
   ]
  },
  {
   "cell_type": "code",
   "execution_count": 33,
   "metadata": {},
   "outputs": [
    {
     "data": {
      "text/plain": [
       "Index(['age at death', 'breed', 'date of last vet visit', 'hair length',\n",
       "       'height', 'number of vet visits', 'weight'],\n",
       "      dtype='object')"
      ]
     },
     "execution_count": 33,
     "metadata": {},
     "output_type": "execute_result"
    }
   ],
   "source": [
    "cats_df.columns"
   ]
  },
  {
   "cell_type": "markdown",
   "metadata": {},
   "source": [
    "#### a. breed"
   ]
  },
  {
   "cell_type": "code",
   "execution_count": 34,
   "metadata": {},
   "outputs": [
    {
     "data": {
      "text/plain": [
       "<seaborn.axisgrid.FacetGrid at 0x7fbde9c96dc0>"
      ]
     },
     "execution_count": 34,
     "metadata": {},
     "output_type": "execute_result"
    },
    {
     "data": {
      "image/png": "[encoded data removed]",
      "text/plain": [
       "<Figure size 1296x216 with 6 Axes>"
      ]
     },
     "metadata": {
      "needs_background": "light"
     },
     "output_type": "display_data"
    }
   ],
   "source": [
    "g = sns.FacetGrid(cats_df, col=\"breed\")\n",
    "g.map_dataframe(sns.histplot, x=\"age at death\")"
   ]
  },
  {
   "cell_type": "code",
   "execution_count": 35,
   "metadata": {},
   "outputs": [
    {
     "data": {
      "text/html": [
       "<div>\n",
       "<style scoped>\n",
       "    .dataframe tbody tr th:only-of-type {\n",
       "        vertical-align: middle;\n",
       "    }\n",
       "\n",
       "    .dataframe tbody tr th {\n",
       "        vertical-align: top;\n",
       "    }\n",
       "\n",
       "    .dataframe thead th {\n",
       "        text-align: right;\n",
       "    }\n",
       "</style>\n",
       "<table border=\"1\" class=\"dataframe\">\n",
       "  <thead>\n",
       "    <tr style=\"text-align: right;\">\n",
       "      <th></th>\n",
       "      <th>count</th>\n",
       "      <th>mean</th>\n",
       "      <th>std</th>\n",
       "      <th>min</th>\n",
       "      <th>25%</th>\n",
       "      <th>50%</th>\n",
       "      <th>75%</th>\n",
       "      <th>max</th>\n",
       "      <th>range</th>\n",
       "    </tr>\n",
       "    <tr>\n",
       "      <th>breed</th>\n",
       "      <th></th>\n",
       "      <th></th>\n",
       "      <th></th>\n",
       "      <th></th>\n",
       "      <th></th>\n",
       "      <th></th>\n",
       "      <th></th>\n",
       "      <th></th>\n",
       "      <th></th>\n",
       "    </tr>\n",
       "  </thead>\n",
       "  <tbody>\n",
       "    <tr>\n",
       "      <th>Donald</th>\n",
       "      <td>1.0</td>\n",
       "      <td>14.000000</td>\n",
       "      <td>NaN</td>\n",
       "      <td>14.0</td>\n",
       "      <td>14.0</td>\n",
       "      <td>14.0</td>\n",
       "      <td>14.0</td>\n",
       "      <td>14.0</td>\n",
       "      <td>0.0</td>\n",
       "    </tr>\n",
       "    <tr>\n",
       "      <th>Javanese</th>\n",
       "      <td>57.0</td>\n",
       "      <td>8.982456</td>\n",
       "      <td>2.682558</td>\n",
       "      <td>5.0</td>\n",
       "      <td>7.0</td>\n",
       "      <td>8.0</td>\n",
       "      <td>11.0</td>\n",
       "      <td>16.0</td>\n",
       "      <td>11.0</td>\n",
       "    </tr>\n",
       "    <tr>\n",
       "      <th>Maine Coon</th>\n",
       "      <td>67.0</td>\n",
       "      <td>9.000000</td>\n",
       "      <td>2.746899</td>\n",
       "      <td>2.0</td>\n",
       "      <td>7.0</td>\n",
       "      <td>9.0</td>\n",
       "      <td>11.0</td>\n",
       "      <td>15.0</td>\n",
       "      <td>13.0</td>\n",
       "    </tr>\n",
       "    <tr>\n",
       "      <th>Manx</th>\n",
       "      <td>59.0</td>\n",
       "      <td>9.135593</td>\n",
       "      <td>2.528852</td>\n",
       "      <td>3.0</td>\n",
       "      <td>8.0</td>\n",
       "      <td>9.0</td>\n",
       "      <td>11.0</td>\n",
       "      <td>14.0</td>\n",
       "      <td>11.0</td>\n",
       "    </tr>\n",
       "    <tr>\n",
       "      <th>Rex</th>\n",
       "      <td>61.0</td>\n",
       "      <td>9.295082</td>\n",
       "      <td>3.211149</td>\n",
       "      <td>4.0</td>\n",
       "      <td>7.0</td>\n",
       "      <td>9.0</td>\n",
       "      <td>11.0</td>\n",
       "      <td>18.0</td>\n",
       "      <td>14.0</td>\n",
       "    </tr>\n",
       "    <tr>\n",
       "      <th>Siamese</th>\n",
       "      <td>50.0</td>\n",
       "      <td>8.720000</td>\n",
       "      <td>2.843108</td>\n",
       "      <td>3.0</td>\n",
       "      <td>7.0</td>\n",
       "      <td>9.0</td>\n",
       "      <td>11.0</td>\n",
       "      <td>15.0</td>\n",
       "      <td>12.0</td>\n",
       "    </tr>\n",
       "  </tbody>\n",
       "</table>\n",
       "</div>"
      ],
      "text/plain": [
       "            count       mean       std   min   25%   50%   75%   max  range\n",
       "breed                                                                      \n",
       "Donald        1.0  14.000000       NaN  14.0  14.0  14.0  14.0  14.0    0.0\n",
       "Javanese     57.0   8.982456  2.682558   5.0   7.0   8.0  11.0  16.0   11.0\n",
       "Maine Coon   67.0   9.000000  2.746899   2.0   7.0   9.0  11.0  15.0   13.0\n",
       "Manx         59.0   9.135593  2.528852   3.0   8.0   9.0  11.0  14.0   11.0\n",
       "Rex          61.0   9.295082  3.211149   4.0   7.0   9.0  11.0  18.0   14.0\n",
       "Siamese      50.0   8.720000  2.843108   3.0   7.0   9.0  11.0  15.0   12.0"
      ]
     },
     "execution_count": 35,
     "metadata": {},
     "output_type": "execute_result"
    }
   ],
   "source": [
    "# descriptive stats\n",
    "breed_ds_df = cats_df.groupby('breed')['age at death'].describe()\n",
    "breed_ds_df['range'] = breed_ds_df['max'] - breed_ds_df['min']\n",
    "breed_ds_df"
   ]
  },
  {
   "cell_type": "markdown",
   "metadata": {},
   "source": [
    "#### Findings:\n",
    "- Most cats have same mean age i.e 9 years\n",
    "- Rex breed seems to have the highest life expectancy and highest spread in life expectancy as well\n",
    "- Maine Coon breed seems too have individuals with the least life expectancy\n",
    "- Javanese has the lowest spread of all the other breeds"
   ]
  },
  {
   "cell_type": "markdown",
   "metadata": {},
   "source": [
    "#### b. date of last vet visit"
   ]
  },
  {
   "cell_type": "code",
   "execution_count": 36,
   "metadata": {},
   "outputs": [],
   "source": [
    "cats_df['year'] = cats_df['date of last vet visit'].dt.year\n",
    "cats_df['month'] = cats_df['date of last vet visit'].dt.month"
   ]
  },
  {
   "cell_type": "code",
   "execution_count": 37,
   "metadata": {},
   "outputs": [
    {
     "data": {
      "text/plain": [
       "<AxesSubplot:xlabel='year', ylabel='age at death'>"
      ]
     },
     "execution_count": 37,
     "metadata": {},
     "output_type": "execute_result"
    },
    {
     "data": {
      "image/png": "[encoded data removed]",
      "text/plain": [
       "<Figure size 432x288 with 1 Axes>"
      ]
     },
     "metadata": {
      "needs_background": "light"
     },
     "output_type": "display_data"
    }
   ],
   "source": [
    "sns.lineplot(x='year', y='age at death', data=cats_df)"
   ]
  },
  {
   "cell_type": "code",
   "execution_count": 38,
   "metadata": {},
   "outputs": [
    {
     "data": {
      "text/plain": [
       "<AxesSubplot:xlabel='month', ylabel='age at death'>"
      ]
     },
     "execution_count": 38,
     "metadata": {},
     "output_type": "execute_result"
    },
    {
     "data": {
      "image/png": "[encoded data removed]",
      "text/plain": [
       "<Figure size 432x288 with 1 Axes>"
      ]
     },
     "metadata": {
      "needs_background": "light"
     },
     "output_type": "display_data"
    }
   ],
   "source": [
    "sns.lineplot(x='month', y='age at death', data=cats_df)"
   ]
  },
  {
   "cell_type": "markdown",
   "metadata": {},
   "source": [
    "#### Findings:\n",
    "- According to the dataset most cats have been deceased in 2007 and the lowest in 2002.\n",
    "- Most of the cats deceased in month of November and the least in July"
   ]
  },
  {
   "cell_type": "markdown",
   "metadata": {},
   "source": [
    "#### c. hair length"
   ]
  },
  {
   "cell_type": "code",
   "execution_count": 39,
   "metadata": {},
   "outputs": [
    {
     "data": {
      "text/plain": [
       "<seaborn.axisgrid.FacetGrid at 0x7fbdea15f550>"
      ]
     },
     "execution_count": 39,
     "metadata": {},
     "output_type": "execute_result"
    },
    {
     "data": {
      "image/png": "[encoded data removed]",
      "text/plain": [
       "<Figure size 360x360 with 1 Axes>"
      ]
     },
     "metadata": {
      "needs_background": "light"
     },
     "output_type": "display_data"
    }
   ],
   "source": [
    "sns.lmplot(x='hair length', y='age at death', data=cats_df, order=1)"
   ]
  },
  {
   "cell_type": "markdown",
   "metadata": {},
   "source": [
    "#### d. height"
   ]
  },
  {
   "cell_type": "code",
   "execution_count": 40,
   "metadata": {},
   "outputs": [
    {
     "data": {
      "text/plain": [
       "<seaborn.axisgrid.FacetGrid at 0x7fbdea512400>"
      ]
     },
     "execution_count": 40,
     "metadata": {},
     "output_type": "execute_result"
    },
    {
     "data": {
      "image/png": "[encoded data removed]",
      "text/plain": [
       "<Figure size 360x360 with 1 Axes>"
      ]
     },
     "metadata": {
      "needs_background": "light"
     },
     "output_type": "display_data"
    }
   ],
   "source": [
    "sns.lmplot(x='height', y='age at death', data=cats_df, order=1)"
   ]
  },
  {
   "cell_type": "markdown",
   "metadata": {},
   "source": [
    "#### Findings:\n",
    "- Age at death decreases at a low ratee as the height is increasing"
   ]
  },
  {
   "cell_type": "markdown",
   "metadata": {},
   "source": [
    "#### e. number of vet visits"
   ]
  },
  {
   "cell_type": "code",
   "execution_count": 41,
   "metadata": {},
   "outputs": [
    {
     "data": {
      "text/plain": [
       "<seaborn.axisgrid.FacetGrid at 0x7fbdea50c550>"
      ]
     },
     "execution_count": 41,
     "metadata": {},
     "output_type": "execute_result"
    },
    {
     "data": {
      "image/png": "[encoded data removed]",
      "text/plain": [
       "<Figure size 360x360 with 1 Axes>"
      ]
     },
     "metadata": {
      "needs_background": "light"
     },
     "output_type": "display_data"
    }
   ],
   "source": [
    "sns.lmplot(x='number of vet visits', y='age at death', data=cats_df, order=2)"
   ]
  },
  {
   "cell_type": "markdown",
   "metadata": {},
   "source": [
    "#### Findings:\n",
    "- Life expectancy increases as the number of visits increase upto a point\n",
    "- More frequent visits to vet might be because of unwell condition."
   ]
  },
  {
   "cell_type": "markdown",
   "metadata": {},
   "source": [
    "#### f. weight"
   ]
  },
  {
   "cell_type": "code",
   "execution_count": 42,
   "metadata": {},
   "outputs": [
    {
     "data": {
      "text/plain": [
       "<seaborn.axisgrid.FacetGrid at 0x7fbdea50ca30>"
      ]
     },
     "execution_count": 42,
     "metadata": {},
     "output_type": "execute_result"
    },
    {
     "data": {
      "image/png": "[encoded data removed]",
      "text/plain": [
       "<Figure size 360x360 with 1 Axes>"
      ]
     },
     "metadata": {
      "needs_background": "light"
     },
     "output_type": "display_data"
    }
   ],
   "source": [
    "sns.lmplot(x='weight', y='age at death', data=cats_df, order=2)"
   ]
  },
  {
   "cell_type": "markdown",
   "metadata": {},
   "source": [
    "#### Findings:\n",
    "- Cats having more weight have less life expectancy"
   ]
  },
  {
   "cell_type": "markdown",
   "metadata": {},
   "source": [
    "## 4. Modelling"
   ]
  },
  {
   "cell_type": "code",
   "execution_count": 43,
   "metadata": {},
   "outputs": [],
   "source": [
    "import statsmodels.api as sm"
   ]
  },
  {
   "cell_type": "code",
   "execution_count": 44,
   "metadata": {},
   "outputs": [],
   "source": [
    "from sklearn.preprocessing import StandardScaler\n",
    "\n",
    "from sklearn.linear_model import LinearRegression, Ridge, Lasso, SGDRegressor\n",
    "from sklearn.ensemble import RandomForestRegressor, AdaBoostRegressor, GradientBoostingRegressor\n",
    "\n",
    "from sklearn.metrics import mean_squared_error\n",
    "\n",
    "from sklearn.model_selection import GridSearchCV, train_test_split"
   ]
  },
  {
   "cell_type": "markdown",
   "metadata": {},
   "source": [
    "### Preprocessing"
   ]
  },
  {
   "cell_type": "code",
   "execution_count": 45,
   "metadata": {},
   "outputs": [],
   "source": [
    "cats_df = cats_df.drop('date of last vet visit', axis=1)"
   ]
  },
  {
   "cell_type": "code",
   "execution_count": 46,
   "metadata": {},
   "outputs": [],
   "source": [
    "# dummification\n",
    "cats_df = pd.get_dummies(cats_df, 'breed')"
   ]
  },
  {
   "cell_type": "code",
   "execution_count": 47,
   "metadata": {},
   "outputs": [],
   "source": [
    "# train test split sets\n",
    "\n",
    "X_train, X_test, y_train, y_test = \\\n",
    "train_test_split(cats_df.drop('age at death', axis=1), \n",
    "                 cats_df['age at death'], \n",
    "                 test_size=0.25, \n",
    "                 random_state=2021)"
   ]
  },
  {
   "cell_type": "code",
   "execution_count": 48,
   "metadata": {},
   "outputs": [],
   "source": [
    "# scaling\n",
    "ss = StandardScaler()\n",
    "\n",
    "X_train = ss.fit_transform(X_train)\n",
    "X_test = ss.transform(X_test)"
   ]
  },
  {
   "cell_type": "markdown",
   "metadata": {},
   "source": [
    "### I. Linear Regression"
   ]
  },
  {
   "cell_type": "code",
   "execution_count": 49,
   "metadata": {},
   "outputs": [
    {
     "name": "stdout",
     "output_type": "stream",
     "text": [
      "R-Squared is 0.02420526236273801\n",
      "RMSE train set: 8.051620205294059\n",
      "RMSE test set: 5.497527055345822e+26\n"
     ]
    }
   ],
   "source": [
    "lr = LinearRegression()\n",
    "\n",
    "lr.fit(X_train, y_train)\n",
    "print(f\"R-Squared is {lr.score(X_train, y_train)}\")\n",
    "\n",
    "print(f\"RMSE train set: {mean_squared_error(y_train, lr.predict(X_train))}\")\n",
    "print(f\"RMSE test set: {mean_squared_error(y_test, lr.predict(X_test))}\")"
   ]
  },
  {
   "cell_type": "code",
   "execution_count": 50,
   "metadata": {},
   "outputs": [],
   "source": [
    "X_train_ = sm.add_constant(X_train)\n",
    "model = sm.OLS(y_train, X_train_)\n",
    "res = model.fit()"
   ]
  },
  {
   "cell_type": "code",
   "execution_count": 51,
   "metadata": {},
   "outputs": [
    {
     "data": {
      "text/html": [
       "<table class=\"simpletable\">\n",
       "<caption>OLS Regression Results</caption>\n",
       "<tr>\n",
       "  <th>Dep. Variable:</th>      <td>age at death</td>   <th>  R-squared:         </th> <td>   0.024</td>\n",
       "</tr>\n",
       "<tr>\n",
       "  <th>Model:</th>                   <td>OLS</td>       <th>  Adj. R-squared:    </th> <td>  -0.022</td>\n",
       "</tr>\n",
       "<tr>\n",
       "  <th>Method:</th>             <td>Least Squares</td>  <th>  F-statistic:       </th> <td>  0.5261</td>\n",
       "</tr>\n",
       "<tr>\n",
       "  <th>Date:</th>             <td>Sun, 08 Aug 2021</td> <th>  Prob (F-statistic):</th>  <td> 0.871</td> \n",
       "</tr>\n",
       "<tr>\n",
       "  <th>Time:</th>                 <td>09:53:52</td>     <th>  Log-Likelihood:    </th> <td> -544.05</td>\n",
       "</tr>\n",
       "<tr>\n",
       "  <th>No. Observations:</th>      <td>   221</td>      <th>  AIC:               </th> <td>   1110.</td>\n",
       "</tr>\n",
       "<tr>\n",
       "  <th>Df Residuals:</th>          <td>   210</td>      <th>  BIC:               </th> <td>   1147.</td>\n",
       "</tr>\n",
       "<tr>\n",
       "  <th>Df Model:</th>              <td>    10</td>      <th>                     </th>     <td> </td>   \n",
       "</tr>\n",
       "<tr>\n",
       "  <th>Covariance Type:</th>      <td>nonrobust</td>    <th>                     </th>     <td> </td>   \n",
       "</tr>\n",
       "</table>\n",
       "<table class=\"simpletable\">\n",
       "<tr>\n",
       "    <td></td>       <th>coef</th>     <th>std err</th>      <th>t</th>      <th>P>|t|</th>  <th>[0.025</th>    <th>0.975]</th>  \n",
       "</tr>\n",
       "<tr>\n",
       "  <th>const</th> <td>    9.0452</td> <td>    0.196</td> <td>   46.200</td> <td> 0.000</td> <td>    8.659</td> <td>    9.431</td>\n",
       "</tr>\n",
       "<tr>\n",
       "  <th>x1</th>    <td>    0.1491</td> <td>    0.198</td> <td>    0.752</td> <td> 0.453</td> <td>   -0.242</td> <td>    0.540</td>\n",
       "</tr>\n",
       "<tr>\n",
       "  <th>x2</th>    <td>   -0.2757</td> <td>    0.201</td> <td>   -1.370</td> <td> 0.172</td> <td>   -0.672</td> <td>    0.121</td>\n",
       "</tr>\n",
       "<tr>\n",
       "  <th>x3</th>    <td>   -0.1340</td> <td>    0.201</td> <td>   -0.666</td> <td> 0.506</td> <td>   -0.531</td> <td>    0.262</td>\n",
       "</tr>\n",
       "<tr>\n",
       "  <th>x4</th>    <td>   -0.1723</td> <td>    0.199</td> <td>   -0.868</td> <td> 0.387</td> <td>   -0.564</td> <td>    0.219</td>\n",
       "</tr>\n",
       "<tr>\n",
       "  <th>x5</th>    <td>   -0.1315</td> <td>    0.206</td> <td>   -0.638</td> <td> 0.524</td> <td>   -0.537</td> <td>    0.275</td>\n",
       "</tr>\n",
       "<tr>\n",
       "  <th>x6</th>    <td>    0.2184</td> <td>    0.203</td> <td>    1.077</td> <td> 0.283</td> <td>   -0.181</td> <td>    0.618</td>\n",
       "</tr>\n",
       "<tr>\n",
       "  <th>x7</th>    <td>-4.907e-17</td> <td> 4.04e-17</td> <td>   -1.215</td> <td> 0.226</td> <td>-1.29e-16</td> <td> 3.05e-17</td>\n",
       "</tr>\n",
       "<tr>\n",
       "  <th>x8</th>    <td>    0.0390</td> <td>    0.162</td> <td>    0.240</td> <td> 0.810</td> <td>   -0.281</td> <td>    0.359</td>\n",
       "</tr>\n",
       "<tr>\n",
       "  <th>x9</th>    <td>   -0.0950</td> <td>    0.160</td> <td>   -0.594</td> <td> 0.553</td> <td>   -0.410</td> <td>    0.220</td>\n",
       "</tr>\n",
       "<tr>\n",
       "  <th>x10</th>   <td>    0.0292</td> <td>    0.158</td> <td>    0.185</td> <td> 0.853</td> <td>   -0.282</td> <td>    0.340</td>\n",
       "</tr>\n",
       "<tr>\n",
       "  <th>x11</th>   <td>    0.0457</td> <td>    0.155</td> <td>    0.295</td> <td> 0.768</td> <td>   -0.259</td> <td>    0.351</td>\n",
       "</tr>\n",
       "<tr>\n",
       "  <th>x12</th>   <td>   -0.0260</td> <td>    0.164</td> <td>   -0.158</td> <td> 0.874</td> <td>   -0.350</td> <td>    0.298</td>\n",
       "</tr>\n",
       "</table>\n",
       "<table class=\"simpletable\">\n",
       "<tr>\n",
       "  <th>Omnibus:</th>       <td> 2.583</td> <th>  Durbin-Watson:     </th> <td>   1.957</td>\n",
       "</tr>\n",
       "<tr>\n",
       "  <th>Prob(Omnibus):</th> <td> 0.275</td> <th>  Jarque-Bera (JB):  </th> <td>   2.593</td>\n",
       "</tr>\n",
       "<tr>\n",
       "  <th>Skew:</th>          <td> 0.260</td> <th>  Prob(JB):          </th> <td>   0.274</td>\n",
       "</tr>\n",
       "<tr>\n",
       "  <th>Kurtosis:</th>      <td> 2.892</td> <th>  Cond. No.          </th> <td>2.73e+16</td>\n",
       "</tr>\n",
       "</table><br/><br/>Notes:<br/>[1] Standard Errors assume that the covariance matrix of the errors is correctly specified.<br/>[2] The smallest eigenvalue is 4.52e-31. This might indicate that there are<br/>strong multicollinearity problems or that the design matrix is singular."
      ],
      "text/plain": [
       "<class 'statsmodels.iolib.summary.Summary'>\n",
       "\"\"\"\n",
       "                            OLS Regression Results                            \n",
       "==============================================================================\n",
       "Dep. Variable:           age at death   R-squared:                       0.024\n",
       "Model:                            OLS   Adj. R-squared:                 -0.022\n",
       "Method:                 Least Squares   F-statistic:                    0.5261\n",
       "Date:                Sun, 08 Aug 2021   Prob (F-statistic):              0.871\n",
       "Time:                        09:53:52   Log-Likelihood:                -544.05\n",
       "No. Observations:                 221   AIC:                             1110.\n",
       "Df Residuals:                     210   BIC:                             1147.\n",
       "Df Model:                          10                                         \n",
       "Covariance Type:            nonrobust                                         \n",
       "==============================================================================\n",
       "                 coef    std err          t      P>|t|      [0.025      0.975]\n",
       "------------------------------------------------------------------------------\n",
       "const          9.0452      0.196     46.200      0.000       8.659       9.431\n",
       "x1             0.1491      0.198      0.752      0.453      -0.242       0.540\n",
       "x2            -0.2757      0.201     -1.370      0.172      -0.672       0.121\n",
       "x3            -0.1340      0.201     -0.666      0.506      -0.531       0.262\n",
       "x4            -0.1723      0.199     -0.868      0.387      -0.564       0.219\n",
       "x5            -0.1315      0.206     -0.638      0.524      -0.537       0.275\n",
       "x6             0.2184      0.203      1.077      0.283      -0.181       0.618\n",
       "x7         -4.907e-17   4.04e-17     -1.215      0.226   -1.29e-16    3.05e-17\n",
       "x8             0.0390      0.162      0.240      0.810      -0.281       0.359\n",
       "x9            -0.0950      0.160     -0.594      0.553      -0.410       0.220\n",
       "x10            0.0292      0.158      0.185      0.853      -0.282       0.340\n",
       "x11            0.0457      0.155      0.295      0.768      -0.259       0.351\n",
       "x12           -0.0260      0.164     -0.158      0.874      -0.350       0.298\n",
       "==============================================================================\n",
       "Omnibus:                        2.583   Durbin-Watson:                   1.957\n",
       "Prob(Omnibus):                  0.275   Jarque-Bera (JB):                2.593\n",
       "Skew:                           0.260   Prob(JB):                        0.274\n",
       "Kurtosis:                       2.892   Cond. No.                     2.73e+16\n",
       "==============================================================================\n",
       "\n",
       "Notes:\n",
       "[1] Standard Errors assume that the covariance matrix of the errors is correctly specified.\n",
       "[2] The smallest eigenvalue is 4.52e-31. This might indicate that there are\n",
       "strong multicollinearity problems or that the design matrix is singular.\n",
       "\"\"\""
      ]
     },
     "execution_count": 51,
     "metadata": {},
     "output_type": "execute_result"
    }
   ],
   "source": [
    "res.summary()"
   ]
  },
  {
   "cell_type": "markdown",
   "metadata": {},
   "source": [
    "### II. Ridge Regression"
   ]
  },
  {
   "cell_type": "code",
   "execution_count": 52,
   "metadata": {},
   "outputs": [
    {
     "name": "stdout",
     "output_type": "stream",
     "text": [
      "R-Squared is 0.024441538200184465\n",
      "RMSE train set: 8.049670611559403\n",
      "RMSE test set: 7.23667528081636\n"
     ]
    }
   ],
   "source": [
    "r_lr = Ridge()\n",
    "\n",
    "r_lr.fit(X_train, y_train)\n",
    "print(f\"R-Squared is {r_lr.score(X_train, y_train)}\")\n",
    "\n",
    "print(f\"RMSE train set: {mean_squared_error(y_train, r_lr.predict(X_train))}\")\n",
    "print(f\"RMSE test set: {mean_squared_error(y_test, r_lr.predict(X_test))}\")"
   ]
  },
  {
   "cell_type": "markdown",
   "metadata": {},
   "source": [
    "### II. Lasso Regression"
   ]
  },
  {
   "cell_type": "code",
   "execution_count": 53,
   "metadata": {},
   "outputs": [
    {
     "name": "stdout",
     "output_type": "stream",
     "text": [
      "R-Squared is 0.0\n",
      "RMSE train set: 8.251346205032656\n",
      "RMSE test set: 6.724439535458966\n"
     ]
    }
   ],
   "source": [
    "l_lr = Lasso()\n",
    "\n",
    "l_lr.fit(X_train, y_train)\n",
    "print(f\"R-Squared is {l_lr.score(X_train, y_train)}\")\n",
    "\n",
    "print(f\"RMSE train set: {mean_squared_error(y_train, l_lr.predict(X_train))}\")\n",
    "print(f\"RMSE test set: {mean_squared_error(y_test, l_lr.predict(X_test))}\")"
   ]
  },
  {
   "cell_type": "markdown",
   "metadata": {},
   "source": [
    "### III. SGD Regression"
   ]
  },
  {
   "cell_type": "code",
   "execution_count": 54,
   "metadata": {},
   "outputs": [
    {
     "name": "stdout",
     "output_type": "stream",
     "text": [
      "R-Squared is 0.024425415939711925\n",
      "RMSE train set: 8.04980364191217\n",
      "RMSE test set: 7.240244171101139\n"
     ]
    }
   ],
   "source": [
    "sgd = SGDRegressor()\n",
    "\n",
    "sgd.fit(X_train, y_train)\n",
    "print(f\"R-Squared is {sgd.score(X_train, y_train)}\")\n",
    "\n",
    "print(f\"RMSE train set: {mean_squared_error(y_train, sgd.predict(X_train))}\")\n",
    "print(f\"RMSE test set: {mean_squared_error(y_test, sgd.predict(X_test))}\")"
   ]
  },
  {
   "cell_type": "markdown",
   "metadata": {},
   "source": [
    "### IV. Random Forest"
   ]
  },
  {
   "cell_type": "code",
   "execution_count": 55,
   "metadata": {},
   "outputs": [
    {
     "name": "stdout",
     "output_type": "stream",
     "text": [
      "R-Squared is 0.8520488781749065\n",
      "RMSE train set: 1.22079592760181\n",
      "RMSE test set: 7.230472972972974\n"
     ]
    }
   ],
   "source": [
    "rfr = RandomForestRegressor()\n",
    "\n",
    "rfr.fit(X_train, y_train)\n",
    "print(f\"R-Squared is {rfr.score(X_train, y_train)}\")\n",
    "\n",
    "print(f\"RMSE train set: {mean_squared_error(y_train, rfr.predict(X_train))}\")\n",
    "print(f\"RMSE test set: {mean_squared_error(y_test, rfr.predict(X_test))}\")"
   ]
  },
  {
   "cell_type": "code",
   "execution_count": 56,
   "metadata": {},
   "outputs": [
    {
     "name": "stdout",
     "output_type": "stream",
     "text": [
      "{'bootstrap': True, 'ccp_alpha': 0.0, 'criterion': 'mse', 'max_depth': None, 'max_features': 'auto', 'max_leaf_nodes': None, 'max_samples': None, 'min_impurity_decrease': 0.0, 'min_impurity_split': None, 'min_samples_leaf': 1, 'min_samples_split': 2, 'min_weight_fraction_leaf': 0.0, 'n_estimators': 100, 'n_jobs': None, 'oob_score': False, 'random_state': None, 'verbose': 0, 'warm_start': False}\n",
      "Best Parameters: {'max_depth': 8, 'min_samples_leaf': 6, 'min_samples_split': 6, 'n_estimators': 125}\n",
      "Best Score: -0.06805673621560471\n"
     ]
    }
   ],
   "source": [
    "print(rfr.get_params())\n",
    "\n",
    "param_grid = {\n",
    "    'n_estimators':[25, 50, 100, 125],\n",
    "    'max_depth':[4, 6, 8],\n",
    "    'min_samples_leaf':[2, 4, 6],\n",
    "    'min_samples_split':[2, 4, 6]\n",
    "}\n",
    "\n",
    "grid_reg = GridSearchCV(rfr, param_grid, scoring='r2', cv=5, n_jobs=-1)\n",
    "\n",
    "grid_reg.fit(X_train, y_train)\n",
    "\n",
    "print(f\"Best Parameters: {grid_reg.best_params_}\")\n",
    "print(f\"Best Score: {grid_reg.best_score_}\")"
   ]
  },
  {
   "cell_type": "code",
   "execution_count": 57,
   "metadata": {},
   "outputs": [
    {
     "name": "stdout",
     "output_type": "stream",
     "text": [
      "R-Squared is 0.431700215270173\n",
      "RMSE train set: 4.689238272051333\n",
      "RMSE test set: 6.993645818685845\n"
     ]
    }
   ],
   "source": [
    "rfr.set_params(**grid_reg.best_params_)\n",
    "\n",
    "rfr.fit(X_train, y_train)\n",
    "print(f\"R-Squared is {rfr.score(X_train, y_train)}\")\n",
    "\n",
    "print(f\"RMSE train set: {mean_squared_error(y_train, rfr.predict(X_train))}\")\n",
    "print(f\"RMSE test set: {mean_squared_error(y_test, rfr.predict(X_test))}\")"
   ]
  },
  {
   "cell_type": "markdown",
   "metadata": {},
   "source": [
    "### V. AdaBoostRegressor"
   ]
  },
  {
   "cell_type": "code",
   "execution_count": 58,
   "metadata": {},
   "outputs": [
    {
     "name": "stdout",
     "output_type": "stream",
     "text": [
      "R-Squared is 0.2531755406487598\n",
      "RMSE train set: 6.162307168493421\n",
      "RMSE test set: 7.39571994154704\n"
     ]
    }
   ],
   "source": [
    "abr = AdaBoostRegressor(n_estimators=50, learning_rate=0.5)\n",
    "\n",
    "abr.fit(X_train, y_train)\n",
    "print(f\"R-Squared is {abr.score(X_train, y_train)}\")\n",
    "\n",
    "print(f\"RMSE train set: {mean_squared_error(y_train, abr.predict(X_train))}\")\n",
    "print(f\"RMSE test set: {mean_squared_error(y_test, abr.predict(X_test))}\")"
   ]
  },
  {
   "cell_type": "code",
   "execution_count": 59,
   "metadata": {},
   "outputs": [
    {
     "name": "stdout",
     "output_type": "stream",
     "text": [
      "Best Parameters: {'learning_rate': 0.5, 'n_estimators': 150}\n",
      "Best Score: -0.051022302356871926\n"
     ]
    }
   ],
   "source": [
    "param_grid = {\n",
    "    'n_estimators':[50, 100, 150, 200],\n",
    "    'learning_rate':[0.5, 1.0, 1.5, 2.0]\n",
    "}\n",
    "\n",
    "grid_reg = GridSearchCV(abr, param_grid, scoring='r2', cv=5, n_jobs=-1)\n",
    "\n",
    "grid_reg.fit(X_train, y_train)\n",
    "\n",
    "print(f\"Best Parameters: {grid_reg.best_params_}\")\n",
    "print(f\"Best Score: {grid_reg.best_score_}\")"
   ]
  },
  {
   "cell_type": "code",
   "execution_count": 60,
   "metadata": {},
   "outputs": [
    {
     "name": "stdout",
     "output_type": "stream",
     "text": [
      "R-Squared is 0.32175080023757696\n",
      "RMSE train set: 5.596468960526105\n",
      "RMSE test set: 7.367461429243599\n"
     ]
    }
   ],
   "source": [
    "abr.set_params(**grid_reg.best_params_)\n",
    "\n",
    "abr.fit(X_train, y_train)\n",
    "print(f\"R-Squared is {abr.score(X_train, y_train)}\")\n",
    "\n",
    "print(f\"RMSE train set: {mean_squared_error(y_train, abr.predict(X_train))}\")\n",
    "print(f\"RMSE test set: {mean_squared_error(y_test, abr.predict(X_test))}\")"
   ]
  },
  {
   "cell_type": "markdown",
   "metadata": {},
   "source": [
    "### VI. GradientBoostingRegressor"
   ]
  },
  {
   "cell_type": "code",
   "execution_count": 61,
   "metadata": {},
   "outputs": [
    {
     "name": "stdout",
     "output_type": "stream",
     "text": [
      "R-Squared is 0.7772349114799034\n",
      "RMSE train set: 1.8381118677740624\n",
      "RMSE test set: 8.971052877577574\n"
     ]
    }
   ],
   "source": [
    "gbr = GradientBoostingRegressor()\n",
    "\n",
    "gbr.fit(X_train, y_train)\n",
    "print(f\"R-Squared is {gbr.score(X_train, y_train)}\")\n",
    "\n",
    "print(f\"RMSE train set: {mean_squared_error(y_train, gbr.predict(X_train))}\")\n",
    "print(f\"RMSE test set: {mean_squared_error(y_test, gbr.predict(X_test))}\")"
   ]
  },
  {
   "cell_type": "code",
   "execution_count": 62,
   "metadata": {},
   "outputs": [
    {
     "name": "stdout",
     "output_type": "stream",
     "text": [
      "{'alpha': 0.9, 'ccp_alpha': 0.0, 'criterion': 'friedman_mse', 'init': None, 'learning_rate': 0.1, 'loss': 'ls', 'max_depth': 3, 'max_features': None, 'max_leaf_nodes': None, 'min_impurity_decrease': 0.0, 'min_impurity_split': None, 'min_samples_leaf': 1, 'min_samples_split': 2, 'min_weight_fraction_leaf': 0.0, 'n_estimators': 100, 'n_iter_no_change': None, 'presort': 'deprecated', 'random_state': None, 'subsample': 1.0, 'tol': 0.0001, 'validation_fraction': 0.1, 'verbose': 0, 'warm_start': False}\n",
      "Best Parameters: {'alpha': 0.9, 'learning_rate': 0.1, 'min_samples_leaf': 1, 'min_samples_split': 4, 'n_estimators': 25, 'subsample': 0.5}\n",
      "Best Score: -0.08289785432453597\n"
     ]
    }
   ],
   "source": [
    "print(gbr.get_params())\n",
    "param_grid = {\n",
    "    'learning_rate':[0.1, 0.15, 0.2],\n",
    "    'n_estimators':[25, 50, 100],\n",
    "    'alpha':[0.5, 0.9, 1.2],\n",
    "    'subsample':[0.2, 0.5, 1.0],\n",
    "    'min_samples_leaf':[1, 2, 3],\n",
    "    'min_samples_split':[2, 4, 6]\n",
    "}\n",
    "\n",
    "grid_reg = GridSearchCV(gbr, param_grid, scoring='r2', cv=5, n_jobs=-1)\n",
    "\n",
    "grid_reg.fit(X_train, y_train)\n",
    "\n",
    "print(f\"Best Parameters: {grid_reg.best_params_}\")\n",
    "print(f\"Best Score: {grid_reg.best_score_}\")"
   ]
  },
  {
   "cell_type": "code",
   "execution_count": 63,
   "metadata": {},
   "outputs": [
    {
     "name": "stdout",
     "output_type": "stream",
     "text": [
      "R-Squared is 0.4041617868088687\n",
      "RMSE train set: 4.91646737922808\n",
      "RMSE test set: 7.5035117926304995\n"
     ]
    }
   ],
   "source": [
    "gbr.set_params(**grid_reg.best_params_)\n",
    "\n",
    "gbr.fit(X_train, y_train)\n",
    "print(f\"R-Squared is {gbr.score(X_train, y_train)}\")\n",
    "\n",
    "print(f\"RMSE train set: {mean_squared_error(y_train, gbr.predict(X_train))}\")\n",
    "print(f\"RMSE test set: {mean_squared_error(y_test, gbr.predict(X_test))}\")"
   ]
  }
 ],
 "metadata": {
  "kernelspec": {
   "display_name": "Python 3",
   "language": "python",
   "name": "python3"
  },
  "language_info": {
   "codemirror_mode": {
    "name": "ipython",
    "version": 3
   },
   "file_extension": ".py",
   "mimetype": "text/x-python",
   "name": "python",
   "nbconvert_exporter": "python",
   "pygments_lexer": "ipython3",
   "version": "3.8.5"
  }
 },
 "nbformat": 4,
 "nbformat_minor": 4
}
